{
 "cells": [
  {
   "cell_type": "markdown",
   "metadata": {},
   "source": [
    "#cd C:\\kafka\n",
    "#zookeeper-server-start.bat C:\\kafka\\config\\zookeeper.properties\n",
    "#kafka-server-start.bat C:\\kafka\\config\\server.properties"
   ]
  },
  {
   "cell_type": "code",
   "execution_count": 10,
   "metadata": {},
   "outputs": [],
   "source": [
    "from kafka import KafkaProducer\n",
    "from time import sleep\n",
    "from json import dumps\n",
    "import urllib.request\n",
    "import pandas as pd"
   ]
  },
  {
   "cell_type": "code",
   "execution_count": 11,
   "metadata": {},
   "outputs": [],
   "source": [
    "df = pd.read_csv('load_archive.csv')"
   ]
  },
  {
   "cell_type": "code",
   "execution_count": 13,
   "metadata": {},
   "outputs": [
    {
     "data": {
      "text/plain": [
       "11830"
      ]
     },
     "execution_count": 13,
     "metadata": {},
     "output_type": "execute_result"
    }
   ],
   "source": [
    "df.shape[0]"
   ]
  },
  {
   "cell_type": "code",
   "execution_count": 5,
   "metadata": {},
   "outputs": [
    {
     "data": {
      "text/plain": [
       "dict"
      ]
     },
     "execution_count": 5,
     "metadata": {},
     "output_type": "execute_result"
    }
   ],
   "source": [
    "type(df.iloc[0].to_dict())"
   ]
  },
  {
   "cell_type": "code",
   "execution_count": 3,
   "metadata": {},
   "outputs": [
    {
     "data": {
      "text/plain": [
       "'114.109.208.141'"
      ]
     },
     "execution_count": 3,
     "metadata": {},
     "output_type": "execute_result"
    }
   ],
   "source": [
    "external_ip = urllib.request.urlopen('https://ident.me').read().decode('utf8')\n",
    "external_ip"
   ]
  },
  {
   "cell_type": "code",
   "execution_count": 4,
   "metadata": {},
   "outputs": [
    {
     "name": "stderr",
     "output_type": "stream",
     "text": [
      "DEBUG:kafka.producer.kafka:Starting the Kafka producer\n",
      "DEBUG:kafka.metrics.metrics:Added sensor with name connections-closed\n",
      "DEBUG:kafka.metrics.metrics:Added sensor with name connections-created\n",
      "DEBUG:kafka.metrics.metrics:Added sensor with name select-time\n",
      "DEBUG:kafka.metrics.metrics:Added sensor with name io-time\n",
      "DEBUG:kafka.client:Initiating connection to node bootstrap-0 at localhost:9092\n",
      "DEBUG:kafka.metrics.metrics:Added sensor with name bytes-sent-received\n",
      "DEBUG:kafka.metrics.metrics:Added sensor with name bytes-sent\n",
      "DEBUG:kafka.metrics.metrics:Added sensor with name bytes-received\n",
      "DEBUG:kafka.metrics.metrics:Added sensor with name request-latency\n",
      "DEBUG:kafka.metrics.metrics:Added sensor with name node-bootstrap-0.bytes-sent\n",
      "DEBUG:kafka.metrics.metrics:Added sensor with name node-bootstrap-0.bytes-received\n",
      "DEBUG:kafka.metrics.metrics:Added sensor with name node-bootstrap-0.latency\n",
      "DEBUG:kafka.conn:<BrokerConnection node_id=bootstrap-0 host=localhost:9092 <disconnected> [unspecified None]>: creating new socket\n",
      "DEBUG:kafka.conn:<BrokerConnection node_id=bootstrap-0 host=localhost:9092 <disconnected> [IPv6 ('::1', 9092, 0, 0)]>: setting socket option (6, 1, 1)\n",
      "INFO:kafka.conn:<BrokerConnection node_id=bootstrap-0 host=localhost:9092 <connecting> [IPv6 ('::1', 9092, 0, 0)]>: connecting to localhost:9092 [('::1', 9092, 0, 0) IPv6]\n",
      "INFO:kafka.conn:Probing node bootstrap-0 broker version\n",
      "DEBUG:kafka.conn:<BrokerConnection node_id=bootstrap-0 host=localhost:9092 <connecting> [IPv6 ('::1', 9092, 0, 0)]>: established TCP connection\n",
      "INFO:kafka.conn:<BrokerConnection node_id=bootstrap-0 host=localhost:9092 <connecting> [IPv6 ('::1', 9092, 0, 0)]>: Connection complete.\n",
      "DEBUG:kafka.client:Node bootstrap-0 connected\n",
      "DEBUG:kafka.protocol.parser:Sending request ApiVersionRequest_v0()\n",
      "DEBUG:kafka.conn:<BrokerConnection node_id=bootstrap-0 host=localhost:9092 <connected> [IPv6 ('::1', 9092, 0, 0)]> Request 1: ApiVersionRequest_v0()\n",
      "DEBUG:kafka.protocol.parser:Sending request MetadataRequest_v0(topics=[])\n",
      "DEBUG:kafka.conn:<BrokerConnection node_id=bootstrap-0 host=localhost:9092 <connected> [IPv6 ('::1', 9092, 0, 0)]> Request 2: MetadataRequest_v0(topics=[])\n",
      "DEBUG:kafka.protocol.parser:Received correlation id: 1\n",
      "DEBUG:kafka.protocol.parser:Processing response ApiVersionResponse_v0\n",
      "DEBUG:kafka.conn:<BrokerConnection node_id=bootstrap-0 host=localhost:9092 <connected> [IPv6 ('::1', 9092, 0, 0)]> Response 1 (107.03635215759277 ms): ApiVersionResponse_v0(error_code=0, api_versions=[(api_key=0, min_version=0, max_version=9), (api_key=1, min_version=0, max_version=15), (api_key=2, min_version=0, max_version=8), (api_key=3, min_version=0, max_version=12), (api_key=4, min_version=0, max_version=7), (api_key=5, min_version=0, max_version=4), (api_key=6, min_version=0, max_version=8), (api_key=7, min_version=0, max_version=3), (api_key=8, min_version=0, max_version=8), (api_key=9, min_version=0, max_version=8), (api_key=10, min_version=0, max_version=4), (api_key=11, min_version=0, max_version=9), (api_key=12, min_version=0, max_version=4), (api_key=13, min_version=0, max_version=5), (api_key=14, min_version=0, max_version=5), (api_key=15, min_version=0, max_version=5), (api_key=16, min_version=0, max_version=4), (api_key=17, min_version=0, max_version=1), (api_key=18, min_version=0, max_version=3), (api_key=19, min_version=0, max_version=7), (api_key=20, min_version=0, max_version=6), (api_key=21, min_version=0, max_version=2), (api_key=22, min_version=0, max_version=4), (api_key=23, min_version=0, max_version=4), (api_key=24, min_version=0, max_version=4), (api_key=25, min_version=0, max_version=3), (api_key=26, min_version=0, max_version=3), (api_key=27, min_version=0, max_version=1), (api_key=28, min_version=0, max_version=3), (api_key=29, min_version=0, max_version=3), (api_key=30, min_version=0, max_version=3), (api_key=31, min_version=0, max_version=3), (api_key=32, min_version=0, max_version=4), (api_key=33, min_version=0, max_version=2), (api_key=34, min_version=0, max_version=2), (api_key=35, min_version=0, max_version=4), (api_key=36, min_version=0, max_version=2), (api_key=37, min_version=0, max_version=3), (api_key=38, min_version=0, max_version=3), (api_key=39, min_version=0, max_version=2), (api_key=40, min_version=0, max_version=2), (api_key=41, min_version=0, max_version=3), (api_key=42, min_version=0, max_version=2), (api_key=43, min_version=0, max_version=2), (api_key=44, min_version=0, max_version=1), (api_key=45, min_version=0, max_version=0), (api_key=46, min_version=0, max_version=0), (api_key=47, min_version=0, max_version=0), (api_key=48, min_version=0, max_version=1), (api_key=49, min_version=0, max_version=1), (api_key=50, min_version=0, max_version=0), (api_key=51, min_version=0, max_version=0), (api_key=56, min_version=0, max_version=3), (api_key=57, min_version=0, max_version=1), (api_key=58, min_version=0, max_version=0), (api_key=60, min_version=0, max_version=0), (api_key=61, min_version=0, max_version=0), (api_key=65, min_version=0, max_version=0), (api_key=66, min_version=0, max_version=0), (api_key=67, min_version=0, max_version=0)])\n",
      "DEBUG:kafka.protocol.parser:Received correlation id: 2\n",
      "DEBUG:kafka.protocol.parser:Processing response MetadataResponse_v0\n",
      "DEBUG:kafka.conn:<BrokerConnection node_id=bootstrap-0 host=localhost:9092 <connected> [IPv6 ('::1', 9092, 0, 0)]> Response 2 (3.9892196655273438 ms): MetadataResponse_v0(brokers=[(node_id=0, host='host.docker.internal', port=9092)], topics=[])\n",
      "INFO:kafka.conn:Broker version identified as 2.5.0\n",
      "INFO:kafka.conn:Set configuration api_version=(2, 5, 0) to skip auto check_version requests on startup\n",
      "DEBUG:kafka.metrics.metrics:Added sensor with name bufferpool-wait-time\n",
      "DEBUG:kafka.metrics.metrics:Added sensor with name batch-size\n",
      "DEBUG:kafka.metrics.metrics:Added sensor with name compression-rate\n",
      "DEBUG:kafka.metrics.metrics:Added sensor with name queue-time\n",
      "DEBUG:kafka.metrics.metrics:Added sensor with name produce-throttle-time\n",
      "DEBUG:kafka.metrics.metrics:Added sensor with name records-per-request\n",
      "DEBUG:kafka.metrics.metrics:Added sensor with name bytes\n",
      "DEBUG:kafka.metrics.metrics:Added sensor with name record-retries\n",
      "DEBUG:kafka.metrics.metrics:Added sensor with name errors\n",
      "DEBUG:kafka.metrics.metrics:Added sensor with name record-size-max\n",
      "DEBUG:kafka.producer.sender:Starting Kafka producer I/O thread.\n",
      "DEBUG:kafka.producer.kafka:Kafka producer started\n",
      "DEBUG:kafka.client:Sending metadata request MetadataRequest_v1(topics=NULL) to node bootstrap-0\n",
      "DEBUG:kafka.producer.sender:Beginning shutdown of Kafka producer I/O thread, sending remaining records.\n",
      "DEBUG:kafka.protocol.parser:Sending request MetadataRequest_v1(topics=NULL)\n",
      "INFO:kafka.conn:<BrokerConnection node_id=bootstrap-0 host=localhost:9092 <connected> [IPv6 ('::1', 9092, 0, 0)]>: Closing connection. \n",
      "DEBUG:kafka.conn:<BrokerConnection node_id=bootstrap-0 host=localhost:9092 <connected> [IPv6 ('::1', 9092, 0, 0)]> Request 3: MetadataRequest_v1(topics=NULL)\n",
      "DEBUG:kafka.producer.sender:Shutdown of Kafka producer I/O thread has completed.\n",
      "DEBUG:kafka.protocol.parser:Received correlation id: 3\n",
      "DEBUG:kafka.protocol.parser:Processing response MetadataResponse_v1\n",
      "DEBUG:kafka.conn:<BrokerConnection node_id=bootstrap-0 host=localhost:9092 <connected> [IPv6 ('::1', 9092, 0, 0)]> Response 3 (6.000518798828125 ms): MetadataResponse_v1(brokers=[(node_id=0, host='host.docker.internal', port=9092, rack=None)], controller_id=0, topics=[])\n",
      "DEBUG:kafka.cluster:Updated cluster metadata to ClusterMetadata(brokers: 1, topics: 0, groups: 0)\n"
     ]
    }
   ],
   "source": [
    "import logging\n",
    "logging.basicConfig(level=logging.DEBUG)\n",
    "producer = KafkaProducer(\n",
    "    bootstrap_servers=['localhost:9092'],\n",
    "    value_serializer=lambda x: dumps(x).encode('utf-8'))"
   ]
  },
  {
   "cell_type": "code",
   "execution_count": null,
   "metadata": {},
   "outputs": [],
   "source": [
    "sample_data = df.iloc[0].to_dict()\n",
    "producer.send('load', value=sample_data)"
   ]
  },
  {
   "cell_type": "code",
   "execution_count": 5,
   "metadata": {},
   "outputs": [],
   "source": [
    "producer.flush()"
   ]
  },
  {
   "cell_type": "code",
   "execution_count": 6,
   "metadata": {},
   "outputs": [
    {
     "name": "stderr",
     "output_type": "stream",
     "text": [
      "DEBUG:kafka.producer.sender:Beginning shutdown of Kafka producer I/O thread, sending remaining records.\n",
      "INFO:kafka.conn:<BrokerConnection node_id=bootstrap-0 host=localhost:9092 <connected> [IPv6 ('::1', 9092, 0, 0)]>: Closing connection. \n",
      "DEBUG:kafka.producer.sender:Shutdown of Kafka producer I/O thread has completed.\n"
     ]
    }
   ],
   "source": [
    "producer.close()"
   ]
  },
  {
   "cell_type": "code",
   "execution_count": 2,
   "metadata": {},
   "outputs": [
    {
     "name": "stdout",
     "output_type": "stream",
     "text": [
      "2023-12-25 17:12:46.711187\n"
     ]
    }
   ],
   "source": [
    "print(pd.Timestamp.now())"
   ]
  },
  {
   "cell_type": "markdown",
   "metadata": {},
   "source": [
    "#consumer"
   ]
  },
  {
   "cell_type": "code",
   "execution_count": 7,
   "metadata": {},
   "outputs": [
    {
     "name": "stderr",
     "output_type": "stream",
     "text": [
      "DEBUG:kafka.metrics.metrics:Added sensor with name connections-closed\n",
      "DEBUG:kafka.metrics.metrics:Added sensor with name connections-created\n",
      "DEBUG:kafka.metrics.metrics:Added sensor with name select-time\n",
      "DEBUG:kafka.metrics.metrics:Added sensor with name io-time\n",
      "DEBUG:kafka.client:Initiating connection to node bootstrap-0 at localhost:9092\n",
      "DEBUG:kafka.metrics.metrics:Added sensor with name bytes-sent-received\n",
      "DEBUG:kafka.metrics.metrics:Added sensor with name bytes-sent\n",
      "DEBUG:kafka.metrics.metrics:Added sensor with name bytes-received\n",
      "DEBUG:kafka.metrics.metrics:Added sensor with name request-latency\n",
      "DEBUG:kafka.metrics.metrics:Added sensor with name node-bootstrap-0.bytes-sent\n",
      "DEBUG:kafka.metrics.metrics:Added sensor with name node-bootstrap-0.bytes-received\n",
      "DEBUG:kafka.metrics.metrics:Added sensor with name node-bootstrap-0.latency\n",
      "DEBUG:kafka.conn:<BrokerConnection node_id=bootstrap-0 host=localhost:9092 <disconnected> [unspecified None]>: creating new socket\n",
      "DEBUG:kafka.conn:<BrokerConnection node_id=bootstrap-0 host=localhost:9092 <disconnected> [IPv6 ('::1', 9092, 0, 0)]>: setting socket option (6, 1, 1)\n",
      "INFO:kafka.conn:<BrokerConnection node_id=bootstrap-0 host=localhost:9092 <connecting> [IPv6 ('::1', 9092, 0, 0)]>: connecting to localhost:9092 [('::1', 9092, 0, 0) IPv6]\n",
      "INFO:kafka.conn:Probing node bootstrap-0 broker version\n",
      "DEBUG:kafka.conn:<BrokerConnection node_id=bootstrap-0 host=localhost:9092 <connecting> [IPv6 ('::1', 9092, 0, 0)]>: established TCP connection\n",
      "INFO:kafka.conn:<BrokerConnection node_id=bootstrap-0 host=localhost:9092 <connecting> [IPv6 ('::1', 9092, 0, 0)]>: Connection complete.\n",
      "DEBUG:kafka.client:Node bootstrap-0 connected\n",
      "DEBUG:kafka.protocol.parser:Sending request ApiVersionRequest_v0()\n",
      "DEBUG:kafka.conn:<BrokerConnection node_id=bootstrap-0 host=localhost:9092 <connected> [IPv6 ('::1', 9092, 0, 0)]> Request 1: ApiVersionRequest_v0()\n",
      "DEBUG:kafka.protocol.parser:Sending request MetadataRequest_v0(topics=[])\n",
      "DEBUG:kafka.conn:<BrokerConnection node_id=bootstrap-0 host=localhost:9092 <connected> [IPv6 ('::1', 9092, 0, 0)]> Request 2: MetadataRequest_v0(topics=[])\n",
      "DEBUG:kafka.protocol.parser:Received correlation id: 1\n",
      "DEBUG:kafka.protocol.parser:Processing response ApiVersionResponse_v0\n",
      "DEBUG:kafka.conn:<BrokerConnection node_id=bootstrap-0 host=localhost:9092 <connected> [IPv6 ('::1', 9092, 0, 0)]> Response 1 (107.00082778930664 ms): ApiVersionResponse_v0(error_code=0, api_versions=[(api_key=0, min_version=0, max_version=9), (api_key=1, min_version=0, max_version=15), (api_key=2, min_version=0, max_version=8), (api_key=3, min_version=0, max_version=12), (api_key=4, min_version=0, max_version=7), (api_key=5, min_version=0, max_version=4), (api_key=6, min_version=0, max_version=8), (api_key=7, min_version=0, max_version=3), (api_key=8, min_version=0, max_version=8), (api_key=9, min_version=0, max_version=8), (api_key=10, min_version=0, max_version=4), (api_key=11, min_version=0, max_version=9), (api_key=12, min_version=0, max_version=4), (api_key=13, min_version=0, max_version=5), (api_key=14, min_version=0, max_version=5), (api_key=15, min_version=0, max_version=5), (api_key=16, min_version=0, max_version=4), (api_key=17, min_version=0, max_version=1), (api_key=18, min_version=0, max_version=3), (api_key=19, min_version=0, max_version=7), (api_key=20, min_version=0, max_version=6), (api_key=21, min_version=0, max_version=2), (api_key=22, min_version=0, max_version=4), (api_key=23, min_version=0, max_version=4), (api_key=24, min_version=0, max_version=4), (api_key=25, min_version=0, max_version=3), (api_key=26, min_version=0, max_version=3), (api_key=27, min_version=0, max_version=1), (api_key=28, min_version=0, max_version=3), (api_key=29, min_version=0, max_version=3), (api_key=30, min_version=0, max_version=3), (api_key=31, min_version=0, max_version=3), (api_key=32, min_version=0, max_version=4), (api_key=33, min_version=0, max_version=2), (api_key=34, min_version=0, max_version=2), (api_key=35, min_version=0, max_version=4), (api_key=36, min_version=0, max_version=2), (api_key=37, min_version=0, max_version=3), (api_key=38, min_version=0, max_version=3), (api_key=39, min_version=0, max_version=2), (api_key=40, min_version=0, max_version=2), (api_key=41, min_version=0, max_version=3), (api_key=42, min_version=0, max_version=2), (api_key=43, min_version=0, max_version=2), (api_key=44, min_version=0, max_version=1), (api_key=45, min_version=0, max_version=0), (api_key=46, min_version=0, max_version=0), (api_key=47, min_version=0, max_version=0), (api_key=48, min_version=0, max_version=1), (api_key=49, min_version=0, max_version=1), (api_key=50, min_version=0, max_version=0), (api_key=51, min_version=0, max_version=0), (api_key=56, min_version=0, max_version=3), (api_key=57, min_version=0, max_version=1), (api_key=58, min_version=0, max_version=0), (api_key=60, min_version=0, max_version=0), (api_key=61, min_version=0, max_version=0), (api_key=65, min_version=0, max_version=0), (api_key=66, min_version=0, max_version=0), (api_key=67, min_version=0, max_version=0)])\n",
      "DEBUG:kafka.protocol.parser:Received correlation id: 2\n",
      "DEBUG:kafka.protocol.parser:Processing response MetadataResponse_v0\n",
      "DEBUG:kafka.conn:<BrokerConnection node_id=bootstrap-0 host=localhost:9092 <connected> [IPv6 ('::1', 9092, 0, 0)]> Response 2 (5.001306533813477 ms): MetadataResponse_v0(brokers=[(node_id=0, host='host.docker.internal', port=9092)], topics=[(error_code=0, topic='Ptot', partitions=[(error_code=0, partition=0, leader=0, replicas=[0], isr=[0])]), (error_code=0, topic='Pa', partitions=[(error_code=0, partition=0, leader=0, replicas=[0], isr=[0])])])\n",
      "INFO:kafka.conn:Broker version identified as 2.5.0\n",
      "INFO:kafka.conn:Set configuration api_version=(2, 5, 0) to skip auto check_version requests on startup\n",
      "DEBUG:kafka.metrics.metrics:Added sensor with name bytes-fetched\n",
      "DEBUG:kafka.metrics.metrics:Added sensor with name records-fetched\n",
      "DEBUG:kafka.metrics.metrics:Added sensor with name fetch-latency\n",
      "DEBUG:kafka.metrics.metrics:Added sensor with name records-lag\n",
      "DEBUG:kafka.metrics.metrics:Added sensor with name fetch-throttle-time\n",
      "DEBUG:kafka.metrics.metrics:Added sensor with name heartbeat-latency\n",
      "DEBUG:kafka.metrics.metrics:Added sensor with name join-latency\n",
      "DEBUG:kafka.metrics.metrics:Added sensor with name sync-latency\n",
      "WARNING:kafka.coordinator.consumer:group_id is None: disabling auto-commit.\n",
      "DEBUG:kafka.metrics.metrics:Added sensor with name commit-latency\n",
      "INFO:kafka.consumer.subscription_state:Updating subscribed topics to: ('Ptot',)\n"
     ]
    }
   ],
   "source": [
    "from kafka import KafkaConsumer\n",
    "from json import loads, dumps\n",
    "\n",
    "\n",
    "try:\n",
    "    consumer = KafkaConsumer('Ptot',\n",
    "                             bootstrap_servers=['localhost:9092'],\n",
    "                             value_deserializer=lambda x: loads(x.decode('utf-8')),\n",
    "                             request_timeout_ms = 10000)\n",
    "except Exception as e:\n",
    "    print(\"An error occurred while initializing the Kafka consumer:\", e)\n",
    "    consumer = None"
   ]
  },
  {
   "cell_type": "code",
   "execution_count": null,
   "metadata": {},
   "outputs": [],
   "source": [
    "for message in consumer:\n",
    "    \n",
    "    # message value and key are raw bytes -- decode if necessary!\n",
    "    # e.g., for unicode: `message.value.decode('utf-8')`\n",
    "    # print (\"%s:%d:%d: key=%s value=%s\" % (message.topic, message.partition,\n",
    "    #                                       message.offset, message.key,\n",
    "    #                                       message.value))\n",
    "    print(pd.DataFrame.from_dict(message.value,orient='index'))"
   ]
  },
  {
   "cell_type": "code",
   "execution_count": 9,
   "metadata": {},
   "outputs": [
    {
     "name": "stderr",
     "output_type": "stream",
     "text": [
      "DEBUG:kafka.consumer.group:Closing the KafkaConsumer.\n",
      "INFO:kafka.conn:<BrokerConnection node_id=0 host=host.docker.internal:9092 <connected> [IPv4 ('192.168.1.39', 9092)]>: Closing connection. \n",
      "DEBUG:kafka.conn:<BrokerConnection node_id=0 host=host.docker.internal:9092 <connected> [IPv4 ('192.168.1.39', 9092)]>: reconnect backoff 0.04444703085128445 after 1 failures\n",
      "ERROR:kafka.consumer.fetcher:Fetch to node 0 failed: Cancelled: <BrokerConnection node_id=0 host=host.docker.internal:9092 <connected> [IPv4 ('192.168.1.39', 9092)]>\n",
      "DEBUG:kafka.consumer.group:The KafkaConsumer has closed.\n"
     ]
    }
   ],
   "source": [
    "consumer.close()"
   ]
  },
  {
   "cell_type": "code",
   "execution_count": 7,
   "metadata": {},
   "outputs": [],
   "source": [
    "d = {'datetime': '1/3/2023 12:00:00', 'Ia(A)': 13.92311756, 'Ib(A)': 13.33506956, 'Ic(A)': 11.69988856, 'In(A)': 0.0, 'Iavg(A)': 0.0, 'Va(V)': 0.0, 'Vb(V)': 0.0, 'Vc(V)': 0.0, 'Vavg(V)': 0.0, 'Pa(kW)': 1.442908766, 'Pb(kW)': 3.007359379, 'Pc(kW)': 2.865918476, 'Ptot(kW)': 7.313675841, 'VARa(kVAR)': 0.0, 'VARb(kVAR)': 0.0, 'VARc(kVAR)': 0.0, 'VARtot(kVAR)': 0.0, 'VAa(V)': 0.0, 'VAb(V)': 0.0, 'VAc(V)': 0.0, 'VAtot(V)': 0.0, 'PFa': 0.0, 'PFb': 0.0, 'PFc': 0.0, 'PFtot': 0.0, 'DFa': 0.0, 'DFb': 0.0, 'DFc': 0.0, 'DFtot': 0.0}"
   ]
  },
  {
   "cell_type": "code",
   "execution_count": 10,
   "metadata": {},
   "outputs": [],
   "source": [
    "data = pd.DataFrame.from_dict(d,orient='index').T"
   ]
  },
  {
   "cell_type": "code",
   "execution_count": 11,
   "metadata": {},
   "outputs": [
    {
     "data": {
      "text/plain": [
       "0    1/3/2023 12:00:00\n",
       "Name: datetime, dtype: object"
      ]
     },
     "execution_count": 11,
     "metadata": {},
     "output_type": "execute_result"
    }
   ],
   "source": [
    "data['datetime']"
   ]
  }
 ],
 "metadata": {
  "kernelspec": {
   "display_name": "Python 3",
   "language": "python",
   "name": "python3"
  },
  "language_info": {
   "codemirror_mode": {
    "name": "ipython",
    "version": 3
   },
   "file_extension": ".py",
   "mimetype": "text/x-python",
   "name": "python",
   "nbconvert_exporter": "python",
   "pygments_lexer": "ipython3",
   "version": "3.9.0"
  }
 },
 "nbformat": 4,
 "nbformat_minor": 2
}
